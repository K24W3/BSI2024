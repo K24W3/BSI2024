{
 "cells": [
  {
   "cell_type": "markdown",
   "metadata": {},
   "source": [
    "# よく使うコマンド一覧\n",
    "\n",
    "## ファイルをステージングエリアに追加方法\n",
    "### 指定したファイルだけをステージングエリアに追加する\n",
    "git add ファイル名\n",
    "### まだ追跡してないファイルを全てステージングエリアに追加する\n",
    "git add -A "
   ]
  }
 ],
 "metadata": {
  "language_info": {
   "name": "python"
  }
 },
 "nbformat": 4,
 "nbformat_minor": 2
}
